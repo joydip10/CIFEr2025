{
 "cells": [
  {
   "cell_type": "code",
   "execution_count": 1,
   "id": "46e968fa",
   "metadata": {},
   "outputs": [],
   "source": [
    "import numpy as np\n",
    "import pandas as pd\n",
    "from sklearn.cluster import DBSCAN\n",
    "from sklearn.neighbors import NearestNeighbors\n",
    "import matplotlib.pyplot as plt\n",
    "from sklearn.decomposition import KernelPCA\n",
    "from sklearn.preprocessing import StandardScaler\n",
    "import datetime\n",
    "import yfinance as yf\n",
    "import networkx as nx"
   ]
  },
  {
   "cell_type": "code",
   "execution_count": 2,
   "id": "66ea7d1e",
   "metadata": {},
   "outputs": [],
   "source": [
    "tickers = ['AAPL', 'MSFT', 'GOOGL', 'AMZN', 'TSLA', 'JPM', 'BAC', 'V', 'PG', 'KO', 'WMT', 'PEP', 'CVX', 'XOM', 'SLB', 'BA', 'UPS', 'CAT', 'MMM', 'JNJ', 'PFE', 'MRNA', 'DIS', 'NFLX', 'T', 'NVDA', 'ORCL', 'INTC', 'LMT', 'GS', 'COST', 'BTC-USD', 'ETH-USD', 'LTC-USD', 'XRP-USD']"
   ]
  },
  {
   "cell_type": "markdown",
   "id": "8c8c59c7",
   "metadata": {},
   "source": [
    "# Get Dataset"
   ]
  },
  {
   "cell_type": "code",
   "execution_count": 3,
   "id": "9639de2d",
   "metadata": {},
   "outputs": [],
   "source": [
    "def get_dataset(year,portfolio):\n",
    "    start_date = f\"{year}-01-01\"\n",
    "    end_date = f\"{year}-12-31\"\n",
    "    data = yf.download(portfolio, start=start_date, end=end_date)['Adj Close'].dropna()\n",
    "    \n",
    "    return data"
   ]
  },
  {
   "cell_type": "code",
   "execution_count": 4,
   "id": "edc8f364",
   "metadata": {},
   "outputs": [],
   "source": [
    "def calculate_average_clustering(year,tickers=tickers):\n",
    "    dataset=get_dataset(year,tickers).pct_change().dropna()\n",
    "    corr=dataset.corr()\n",
    "    adjacency=corr.values\n",
    "    \n",
    "    threshold=np.mean(adjacency)\n",
    "    \n",
    "    for i in range(35):\n",
    "        for j in range(35):\n",
    "            if adjacency[i,j]<threshold:\n",
    "                adjacency[i,j]=0\n",
    "    \n",
    "    #threshold network\n",
    "    network=nx.from_numpy_matrix(adjacency)\n",
    "    \n",
    "    tickers=corr.columns.tolist()\n",
    "    mapping = dict(zip(network.nodes, tickers))\n",
    "    network = nx.relabel_nodes(network, mapping)\n",
    "    \n",
    "    clustering_dict = nx.clustering(network)\n",
    "    \n",
    "    return clustering_dict"
   ]
  },
  {
   "cell_type": "code",
   "execution_count": null,
   "id": "480c3ecb",
   "metadata": {},
   "outputs": [],
   "source": []
  },
  {
   "cell_type": "code",
   "execution_count": 5,
   "id": "eca4820d",
   "metadata": {},
   "outputs": [],
   "source": [
    "def dataset_parameters(year,stockFileName):\n",
    "    \n",
    "    #dataset\n",
    "    originalRows=35\n",
    "    data = pd.read_csv(stockFileName,  nrows= originalRows,index_col=['assets'])\n",
    "    \n",
    "    #columns\n",
    "    assetLabels = data.columns.tolist()\n",
    "    \n",
    "    #covariance\n",
    "    dfStockPrices = data\n",
    "    assetParameters=np.array(dfStockPrices)\n",
    "    \n",
    "    return assetLabels,assetParameters"
   ]
  },
  {
   "cell_type": "code",
   "execution_count": 6,
   "id": "56d7b847",
   "metadata": {},
   "outputs": [],
   "source": [
    "def show_wcss(year,stockFileName):\n",
    "    \n",
    "    _,assetParameters=dataset_parameters(2020,stockFileName)\n",
    "    \n",
    "    #WCSS\n",
    "    wcss = []\n",
    "    for i in range(1, 35):\n",
    "        kmeans = KMeans(n_clusters = i, init = 'k-means++', random_state = 42)\n",
    "        kmeans.fit(assetParameters )\n",
    "        wcss.append(kmeans.inertia_)\n",
    "    plt.plot(range(1, 35), wcss, label=f'{year} WCSS plot')\n",
    "    plt.title('The Elbow Method')\n",
    "    plt.xlabel('Number of clusters')\n",
    "    plt.ylabel('WCSS')\n",
    "    plt.show()"
   ]
  },
  {
   "cell_type": "code",
   "execution_count": null,
   "id": "7016f11c",
   "metadata": {},
   "outputs": [],
   "source": [
    "def show_reachability_plot(year, stockFileName):\n",
    "    "
   ]
  },
  {
   "cell_type": "code",
   "execution_count": 7,
   "id": "de1e8ab1",
   "metadata": {},
   "outputs": [],
   "source": [
    "def kmeans_clustering(year,stockFileName,clusternumber):\n",
    "    \n",
    "    assetLabels,assetParameters=dataset_parameters(year,stockFileName)\n",
    "    \n",
    "    #Kmeans clustering\n",
    "    kmeans= KMeans(algorithm='auto',  max_iter=600, n_clusters=clusternumber)\n",
    "    \n",
    "    kmeans.fit(assetParameters)\n",
    "    centroids = kmeans.cluster_centers_\n",
    "    labels = kmeans.labels_\n",
    "\n",
    "   \n",
    "    assets = np.array(assetLabels)\n",
    "    cluster_list=[]\n",
    "    for i in range(clusternumber):\n",
    "        print('Cluster', i+1)\n",
    "        clt  = np.where(labels == i)\n",
    "        assetsCluster = assets[clt]\n",
    "        print(assetsCluster)\n",
    "        cluster_list.append(assetsCluster.tolist());\n",
    "    \n",
    "    return cluster_list"
   ]
  },
  {
   "cell_type": "code",
   "execution_count": null,
   "id": "06f55c02",
   "metadata": {},
   "outputs": [],
   "source": []
  },
  {
   "cell_type": "markdown",
   "id": "a5fe4e33",
   "metadata": {},
   "source": [
    "# Portfolio with highest mean returns assets"
   ]
  },
  {
   "cell_type": "code",
   "execution_count": 8,
   "id": "69e001d1",
   "metadata": {},
   "outputs": [],
   "source": [
    "def retReturns(i):\n",
    "    return meanreturns.get(i)\n",
    "\n",
    "\n",
    "def portfolio_highest_mean(clusters):\n",
    "    sorted_list=[]\n",
    "    for assetList in clusters:\n",
    "        sorted_list.append(sorted(assetList, key=retReturns,reverse=True))\n",
    "    \n",
    "    assets=[]\n",
    "    for i in sorted_list:\n",
    "        if len(i)<5:\n",
    "            assets.extend([j for j in i])\n",
    "        else:\n",
    "            assets.extend([j for j in i[0:5]])\n",
    "                \n",
    "    return sorted(assets, key=retReturns,reverse=True)[0:7]\n"
   ]
  },
  {
   "cell_type": "markdown",
   "id": "507c6462",
   "metadata": {},
   "source": [
    "# Portfolio with lowest risk assets"
   ]
  },
  {
   "cell_type": "code",
   "execution_count": 9,
   "id": "0e7e2e56",
   "metadata": {},
   "outputs": [],
   "source": [
    "def retRisk(i):\n",
    "    return risk.get(i)\n",
    "\n",
    "\n",
    "def portfolio_lowest_risk(clusters):\n",
    "    sorted_list=[]\n",
    "    for assetList in clusters:\n",
    "        sorted_list.append(sorted(assetList, key=retRisk,reverse=False))\n",
    "    \n",
    "    assets=[]\n",
    "    for i in sorted_list:\n",
    "        if len(i)<5:\n",
    "            assets.extend([j for j in i])\n",
    "        else:\n",
    "            assets.extend([j for j in i[0:5]])\n",
    "    return sorted(assets, key=retReturns,reverse=True)[0:7]\n"
   ]
  },
  {
   "cell_type": "markdown",
   "id": "b9cdeb1e",
   "metadata": {},
   "source": [
    "# Portfolio with lowest average clustering coefficient"
   ]
  },
  {
   "cell_type": "code",
   "execution_count": 10,
   "id": "ad14e090",
   "metadata": {},
   "outputs": [],
   "source": [
    "def retClustering(i):\n",
    "    return clustering.get(i)\n",
    "\n",
    "\n",
    "def portfolio_lowest_avg_clustering(clusters):\n",
    "    sorted_list=[]\n",
    "    for assetList in clusters:\n",
    "        sorted_list.append(sorted(assetList, key=retClustering,reverse=False))\n",
    "    \n",
    "    assets=[]\n",
    "    for i in sorted_list:\n",
    "        if len(i)<5:\n",
    "            assets.extend([j for j in i])\n",
    "        else:\n",
    "            assets.extend([j for j in i[0:5]])\n",
    "    return sorted(assets, key=retReturns,reverse=True)[0:7]\n"
   ]
  },
  {
   "cell_type": "code",
   "execution_count": null,
   "id": "befcfaf6",
   "metadata": {},
   "outputs": [],
   "source": []
  },
  {
   "cell_type": "markdown",
   "id": "5b7f4fe8",
   "metadata": {},
   "source": [
    "# Diversification Index- Using Equal Weighted(EW) Portfolio"
   ]
  },
  {
   "cell_type": "code",
   "execution_count": 11,
   "id": "2deb4357",
   "metadata": {},
   "outputs": [],
   "source": [
    "def diversification_ratio(year,portfolio):\n",
    "    \n",
    "    #Download Adjacent closing prices for the selected assets in the portfolio\n",
    "    start_date = f\"{year}-01-01\"\n",
    "    end_date = f\"{year}-12-31\"\n",
    "    data = yf.download(portfolio, start=start_date, end=end_date)['Adj Close']\n",
    "    \n",
    "    #calculating returns\n",
    "    returns = data.pct_change().dropna()\n",
    "    \n",
    "    #calculating volatility (standard deviation)\n",
    "    volatilities = returns.std() * np.sqrt(251)\n",
    "    \n",
    "    #calculating covariance of the returns\n",
    "    cov_matrix = returns.cov() * 252\n",
    "    \n",
    "    #Constructing E.W portfolio\n",
    "    weights = np.ones(len(data.columns)) / len(data.columns)\n",
    "    \n",
    "    #Calculating the weighted sum of individual volatilities\n",
    "    weighted_vol_sum = np.dot(volatilities, weights)\n",
    "    \n",
    "    # Computing the portfolio volatility using the covariance matrix\n",
    "    portfolio_volatility = np.sqrt(np.dot(weights, np.dot(cov_matrix, weights)))\n",
    "    \n",
    "    # Calculating the Diversification Ratio\n",
    "    diversification_ratio = weighted_vol_sum / portfolio_volatility\n",
    "    \n",
    "    return diversification_ratio"
   ]
  },
  {
   "cell_type": "code",
   "execution_count": 12,
   "id": "86429bbf",
   "metadata": {},
   "outputs": [],
   "source": [
    "def diversification_dictionary(year,p1,p2,p3):\n",
    "    d_d={}\n",
    "    d_d['highest_return']=diversification_ratio(year,p1)\n",
    "    d_d['lowest_risk']=diversification_ratio(year,p2)\n",
    "    d_d['lowest_clustering']=diversification_ratio(year,p3)\n",
    "    \n",
    "    return d_d"
   ]
  },
  {
   "cell_type": "code",
   "execution_count": null,
   "id": "087c0d5f",
   "metadata": {},
   "outputs": [],
   "source": []
  },
  {
   "cell_type": "code",
   "execution_count": null,
   "id": "e2e7fd1b",
   "metadata": {},
   "outputs": [],
   "source": []
  },
  {
   "cell_type": "markdown",
   "id": "74c7347e",
   "metadata": {},
   "source": [
    "# Code Execution"
   ]
  },
  {
   "cell_type": "markdown",
   "id": "654dae59",
   "metadata": {},
   "source": [
    "## Put relevant variables"
   ]
  },
  {
   "cell_type": "code",
   "execution_count": 13,
   "id": "47eced36",
   "metadata": {},
   "outputs": [
    {
     "name": "stdout",
     "output_type": "stream",
     "text": [
      "[*********************100%%**********************]  35 of 35 completed\n",
      "[*********************100%%**********************]  35 of 35 completed\n",
      "[*********************100%%**********************]  35 of 35 completed\n"
     ]
    }
   ],
   "source": [
    "year=2023\n",
    "correlation_matrix = f'./emperical_corr_mat_{year}.csv'\n",
    "meanreturns= dict((get_dataset(year,tickers).pct_change().dropna()).mean())\n",
    "risk=dict((get_dataset(year,tickers).pct_change().dropna()).std())\n",
    "clustering=calculate_average_clustering(year)\n",
    "\n",
    "correlation_method='Emperical'"
   ]
  },
  {
   "cell_type": "code",
   "execution_count": null,
   "id": "27be5256",
   "metadata": {},
   "outputs": [],
   "source": []
  },
  {
   "cell_type": "markdown",
   "id": "f0eca5fd",
   "metadata": {},
   "source": [
    "## WCSS plot"
   ]
  },
  {
   "cell_type": "code",
   "execution_count": 14,
   "id": "8df71e52",
   "metadata": {
    "scrolled": true
   },
   "outputs": [
    {
     "name": "stderr",
     "output_type": "stream",
     "text": [
      "C:\\Users\\joydi\\anaconda3\\lib\\site-packages\\sklearn\\cluster\\_kmeans.py:870: FutureWarning: The default value of `n_init` will change from 10 to 'auto' in 1.4. Set the value of `n_init` explicitly to suppress the warning\n",
      "  warnings.warn(\n",
      "C:\\Users\\joydi\\anaconda3\\lib\\site-packages\\sklearn\\cluster\\_kmeans.py:1382: UserWarning: KMeans is known to have a memory leak on Windows with MKL, when there are less chunks than available threads. You can avoid it by setting the environment variable OMP_NUM_THREADS=1.\n",
      "  warnings.warn(\n",
      "C:\\Users\\joydi\\anaconda3\\lib\\site-packages\\sklearn\\cluster\\_kmeans.py:870: FutureWarning: The default value of `n_init` will change from 10 to 'auto' in 1.4. Set the value of `n_init` explicitly to suppress the warning\n",
      "  warnings.warn(\n",
      "C:\\Users\\joydi\\anaconda3\\lib\\site-packages\\sklearn\\cluster\\_kmeans.py:1382: UserWarning: KMeans is known to have a memory leak on Windows with MKL, when there are less chunks than available threads. You can avoid it by setting the environment variable OMP_NUM_THREADS=1.\n",
      "  warnings.warn(\n",
      "C:\\Users\\joydi\\anaconda3\\lib\\site-packages\\sklearn\\cluster\\_kmeans.py:870: FutureWarning: The default value of `n_init` will change from 10 to 'auto' in 1.4. Set the value of `n_init` explicitly to suppress the warning\n",
      "  warnings.warn(\n",
      "C:\\Users\\joydi\\anaconda3\\lib\\site-packages\\sklearn\\cluster\\_kmeans.py:1382: UserWarning: KMeans is known to have a memory leak on Windows with MKL, when there are less chunks than available threads. You can avoid it by setting the environment variable OMP_NUM_THREADS=1.\n",
      "  warnings.warn(\n",
      "C:\\Users\\joydi\\anaconda3\\lib\\site-packages\\sklearn\\cluster\\_kmeans.py:870: FutureWarning: The default value of `n_init` will change from 10 to 'auto' in 1.4. Set the value of `n_init` explicitly to suppress the warning\n",
      "  warnings.warn(\n",
      "C:\\Users\\joydi\\anaconda3\\lib\\site-packages\\sklearn\\cluster\\_kmeans.py:1382: UserWarning: KMeans is known to have a memory leak on Windows with MKL, when there are less chunks than available threads. You can avoid it by setting the environment variable OMP_NUM_THREADS=1.\n",
      "  warnings.warn(\n",
      "C:\\Users\\joydi\\anaconda3\\lib\\site-packages\\sklearn\\cluster\\_kmeans.py:870: FutureWarning: The default value of `n_init` will change from 10 to 'auto' in 1.4. Set the value of `n_init` explicitly to suppress the warning\n",
      "  warnings.warn(\n",
      "C:\\Users\\joydi\\anaconda3\\lib\\site-packages\\sklearn\\cluster\\_kmeans.py:1382: UserWarning: KMeans is known to have a memory leak on Windows with MKL, when there are less chunks than available threads. You can avoid it by setting the environment variable OMP_NUM_THREADS=1.\n",
      "  warnings.warn(\n",
      "C:\\Users\\joydi\\anaconda3\\lib\\site-packages\\sklearn\\cluster\\_kmeans.py:870: FutureWarning: The default value of `n_init` will change from 10 to 'auto' in 1.4. Set the value of `n_init` explicitly to suppress the warning\n",
      "  warnings.warn(\n",
      "C:\\Users\\joydi\\anaconda3\\lib\\site-packages\\sklearn\\cluster\\_kmeans.py:1382: UserWarning: KMeans is known to have a memory leak on Windows with MKL, when there are less chunks than available threads. You can avoid it by setting the environment variable OMP_NUM_THREADS=1.\n",
      "  warnings.warn(\n",
      "C:\\Users\\joydi\\anaconda3\\lib\\site-packages\\sklearn\\cluster\\_kmeans.py:870: FutureWarning: The default value of `n_init` will change from 10 to 'auto' in 1.4. Set the value of `n_init` explicitly to suppress the warning\n",
      "  warnings.warn(\n",
      "C:\\Users\\joydi\\anaconda3\\lib\\site-packages\\sklearn\\cluster\\_kmeans.py:1382: UserWarning: KMeans is known to have a memory leak on Windows with MKL, when there are less chunks than available threads. You can avoid it by setting the environment variable OMP_NUM_THREADS=1.\n",
      "  warnings.warn(\n",
      "C:\\Users\\joydi\\anaconda3\\lib\\site-packages\\sklearn\\cluster\\_kmeans.py:870: FutureWarning: The default value of `n_init` will change from 10 to 'auto' in 1.4. Set the value of `n_init` explicitly to suppress the warning\n",
      "  warnings.warn(\n",
      "C:\\Users\\joydi\\anaconda3\\lib\\site-packages\\sklearn\\cluster\\_kmeans.py:1382: UserWarning: KMeans is known to have a memory leak on Windows with MKL, when there are less chunks than available threads. You can avoid it by setting the environment variable OMP_NUM_THREADS=1.\n",
      "  warnings.warn(\n",
      "C:\\Users\\joydi\\anaconda3\\lib\\site-packages\\sklearn\\cluster\\_kmeans.py:870: FutureWarning: The default value of `n_init` will change from 10 to 'auto' in 1.4. Set the value of `n_init` explicitly to suppress the warning\n",
      "  warnings.warn(\n",
      "C:\\Users\\joydi\\anaconda3\\lib\\site-packages\\sklearn\\cluster\\_kmeans.py:1382: UserWarning: KMeans is known to have a memory leak on Windows with MKL, when there are less chunks than available threads. You can avoid it by setting the environment variable OMP_NUM_THREADS=1.\n",
      "  warnings.warn(\n",
      "C:\\Users\\joydi\\anaconda3\\lib\\site-packages\\sklearn\\cluster\\_kmeans.py:870: FutureWarning: The default value of `n_init` will change from 10 to 'auto' in 1.4. Set the value of `n_init` explicitly to suppress the warning\n",
      "  warnings.warn(\n",
      "C:\\Users\\joydi\\anaconda3\\lib\\site-packages\\sklearn\\cluster\\_kmeans.py:1382: UserWarning: KMeans is known to have a memory leak on Windows with MKL, when there are less chunks than available threads. You can avoid it by setting the environment variable OMP_NUM_THREADS=1.\n",
      "  warnings.warn(\n",
      "C:\\Users\\joydi\\anaconda3\\lib\\site-packages\\sklearn\\cluster\\_kmeans.py:870: FutureWarning: The default value of `n_init` will change from 10 to 'auto' in 1.4. Set the value of `n_init` explicitly to suppress the warning\n",
      "  warnings.warn(\n",
      "C:\\Users\\joydi\\anaconda3\\lib\\site-packages\\sklearn\\cluster\\_kmeans.py:1382: UserWarning: KMeans is known to have a memory leak on Windows with MKL, when there are less chunks than available threads. You can avoid it by setting the environment variable OMP_NUM_THREADS=1.\n",
      "  warnings.warn(\n",
      "C:\\Users\\joydi\\anaconda3\\lib\\site-packages\\sklearn\\cluster\\_kmeans.py:870: FutureWarning: The default value of `n_init` will change from 10 to 'auto' in 1.4. Set the value of `n_init` explicitly to suppress the warning\n",
      "  warnings.warn(\n",
      "C:\\Users\\joydi\\anaconda3\\lib\\site-packages\\sklearn\\cluster\\_kmeans.py:1382: UserWarning: KMeans is known to have a memory leak on Windows with MKL, when there are less chunks than available threads. You can avoid it by setting the environment variable OMP_NUM_THREADS=1.\n",
      "  warnings.warn(\n",
      "C:\\Users\\joydi\\anaconda3\\lib\\site-packages\\sklearn\\cluster\\_kmeans.py:870: FutureWarning: The default value of `n_init` will change from 10 to 'auto' in 1.4. Set the value of `n_init` explicitly to suppress the warning\n",
      "  warnings.warn(\n",
      "C:\\Users\\joydi\\anaconda3\\lib\\site-packages\\sklearn\\cluster\\_kmeans.py:1382: UserWarning: KMeans is known to have a memory leak on Windows with MKL, when there are less chunks than available threads. You can avoid it by setting the environment variable OMP_NUM_THREADS=1.\n",
      "  warnings.warn(\n",
      "C:\\Users\\joydi\\anaconda3\\lib\\site-packages\\sklearn\\cluster\\_kmeans.py:870: FutureWarning: The default value of `n_init` will change from 10 to 'auto' in 1.4. Set the value of `n_init` explicitly to suppress the warning\n",
      "  warnings.warn(\n",
      "C:\\Users\\joydi\\anaconda3\\lib\\site-packages\\sklearn\\cluster\\_kmeans.py:1382: UserWarning: KMeans is known to have a memory leak on Windows with MKL, when there are less chunks than available threads. You can avoid it by setting the environment variable OMP_NUM_THREADS=1.\n",
      "  warnings.warn(\n",
      "C:\\Users\\joydi\\anaconda3\\lib\\site-packages\\sklearn\\cluster\\_kmeans.py:870: FutureWarning: The default value of `n_init` will change from 10 to 'auto' in 1.4. Set the value of `n_init` explicitly to suppress the warning\n",
      "  warnings.warn(\n",
      "C:\\Users\\joydi\\anaconda3\\lib\\site-packages\\sklearn\\cluster\\_kmeans.py:1382: UserWarning: KMeans is known to have a memory leak on Windows with MKL, when there are less chunks than available threads. You can avoid it by setting the environment variable OMP_NUM_THREADS=1.\n",
      "  warnings.warn(\n",
      "C:\\Users\\joydi\\anaconda3\\lib\\site-packages\\sklearn\\cluster\\_kmeans.py:870: FutureWarning: The default value of `n_init` will change from 10 to 'auto' in 1.4. Set the value of `n_init` explicitly to suppress the warning\n",
      "  warnings.warn(\n",
      "C:\\Users\\joydi\\anaconda3\\lib\\site-packages\\sklearn\\cluster\\_kmeans.py:1382: UserWarning: KMeans is known to have a memory leak on Windows with MKL, when there are less chunks than available threads. You can avoid it by setting the environment variable OMP_NUM_THREADS=1.\n",
      "  warnings.warn(\n"
     ]
    },
    {
     "name": "stderr",
     "output_type": "stream",
     "text": [
      "C:\\Users\\joydi\\anaconda3\\lib\\site-packages\\sklearn\\cluster\\_kmeans.py:870: FutureWarning: The default value of `n_init` will change from 10 to 'auto' in 1.4. Set the value of `n_init` explicitly to suppress the warning\n",
      "  warnings.warn(\n",
      "C:\\Users\\joydi\\anaconda3\\lib\\site-packages\\sklearn\\cluster\\_kmeans.py:1382: UserWarning: KMeans is known to have a memory leak on Windows with MKL, when there are less chunks than available threads. You can avoid it by setting the environment variable OMP_NUM_THREADS=1.\n",
      "  warnings.warn(\n",
      "C:\\Users\\joydi\\anaconda3\\lib\\site-packages\\sklearn\\cluster\\_kmeans.py:870: FutureWarning: The default value of `n_init` will change from 10 to 'auto' in 1.4. Set the value of `n_init` explicitly to suppress the warning\n",
      "  warnings.warn(\n",
      "C:\\Users\\joydi\\anaconda3\\lib\\site-packages\\sklearn\\cluster\\_kmeans.py:1382: UserWarning: KMeans is known to have a memory leak on Windows with MKL, when there are less chunks than available threads. You can avoid it by setting the environment variable OMP_NUM_THREADS=1.\n",
      "  warnings.warn(\n",
      "C:\\Users\\joydi\\anaconda3\\lib\\site-packages\\sklearn\\cluster\\_kmeans.py:870: FutureWarning: The default value of `n_init` will change from 10 to 'auto' in 1.4. Set the value of `n_init` explicitly to suppress the warning\n",
      "  warnings.warn(\n",
      "C:\\Users\\joydi\\anaconda3\\lib\\site-packages\\sklearn\\cluster\\_kmeans.py:1382: UserWarning: KMeans is known to have a memory leak on Windows with MKL, when there are less chunks than available threads. You can avoid it by setting the environment variable OMP_NUM_THREADS=1.\n",
      "  warnings.warn(\n",
      "C:\\Users\\joydi\\anaconda3\\lib\\site-packages\\sklearn\\cluster\\_kmeans.py:870: FutureWarning: The default value of `n_init` will change from 10 to 'auto' in 1.4. Set the value of `n_init` explicitly to suppress the warning\n",
      "  warnings.warn(\n",
      "C:\\Users\\joydi\\anaconda3\\lib\\site-packages\\sklearn\\cluster\\_kmeans.py:1382: UserWarning: KMeans is known to have a memory leak on Windows with MKL, when there are less chunks than available threads. You can avoid it by setting the environment variable OMP_NUM_THREADS=1.\n",
      "  warnings.warn(\n",
      "C:\\Users\\joydi\\anaconda3\\lib\\site-packages\\sklearn\\cluster\\_kmeans.py:870: FutureWarning: The default value of `n_init` will change from 10 to 'auto' in 1.4. Set the value of `n_init` explicitly to suppress the warning\n",
      "  warnings.warn(\n",
      "C:\\Users\\joydi\\anaconda3\\lib\\site-packages\\sklearn\\cluster\\_kmeans.py:1382: UserWarning: KMeans is known to have a memory leak on Windows with MKL, when there are less chunks than available threads. You can avoid it by setting the environment variable OMP_NUM_THREADS=1.\n",
      "  warnings.warn(\n",
      "C:\\Users\\joydi\\anaconda3\\lib\\site-packages\\sklearn\\cluster\\_kmeans.py:870: FutureWarning: The default value of `n_init` will change from 10 to 'auto' in 1.4. Set the value of `n_init` explicitly to suppress the warning\n",
      "  warnings.warn(\n",
      "C:\\Users\\joydi\\anaconda3\\lib\\site-packages\\sklearn\\cluster\\_kmeans.py:1382: UserWarning: KMeans is known to have a memory leak on Windows with MKL, when there are less chunks than available threads. You can avoid it by setting the environment variable OMP_NUM_THREADS=1.\n",
      "  warnings.warn(\n",
      "C:\\Users\\joydi\\anaconda3\\lib\\site-packages\\sklearn\\cluster\\_kmeans.py:870: FutureWarning: The default value of `n_init` will change from 10 to 'auto' in 1.4. Set the value of `n_init` explicitly to suppress the warning\n",
      "  warnings.warn(\n",
      "C:\\Users\\joydi\\anaconda3\\lib\\site-packages\\sklearn\\cluster\\_kmeans.py:1382: UserWarning: KMeans is known to have a memory leak on Windows with MKL, when there are less chunks than available threads. You can avoid it by setting the environment variable OMP_NUM_THREADS=1.\n",
      "  warnings.warn(\n",
      "C:\\Users\\joydi\\anaconda3\\lib\\site-packages\\sklearn\\cluster\\_kmeans.py:870: FutureWarning: The default value of `n_init` will change from 10 to 'auto' in 1.4. Set the value of `n_init` explicitly to suppress the warning\n",
      "  warnings.warn(\n",
      "C:\\Users\\joydi\\anaconda3\\lib\\site-packages\\sklearn\\cluster\\_kmeans.py:1382: UserWarning: KMeans is known to have a memory leak on Windows with MKL, when there are less chunks than available threads. You can avoid it by setting the environment variable OMP_NUM_THREADS=1.\n",
      "  warnings.warn(\n",
      "C:\\Users\\joydi\\anaconda3\\lib\\site-packages\\sklearn\\cluster\\_kmeans.py:870: FutureWarning: The default value of `n_init` will change from 10 to 'auto' in 1.4. Set the value of `n_init` explicitly to suppress the warning\n",
      "  warnings.warn(\n",
      "C:\\Users\\joydi\\anaconda3\\lib\\site-packages\\sklearn\\cluster\\_kmeans.py:1382: UserWarning: KMeans is known to have a memory leak on Windows with MKL, when there are less chunks than available threads. You can avoid it by setting the environment variable OMP_NUM_THREADS=1.\n",
      "  warnings.warn(\n",
      "C:\\Users\\joydi\\anaconda3\\lib\\site-packages\\sklearn\\cluster\\_kmeans.py:870: FutureWarning: The default value of `n_init` will change from 10 to 'auto' in 1.4. Set the value of `n_init` explicitly to suppress the warning\n",
      "  warnings.warn(\n",
      "C:\\Users\\joydi\\anaconda3\\lib\\site-packages\\sklearn\\cluster\\_kmeans.py:1382: UserWarning: KMeans is known to have a memory leak on Windows with MKL, when there are less chunks than available threads. You can avoid it by setting the environment variable OMP_NUM_THREADS=1.\n",
      "  warnings.warn(\n",
      "C:\\Users\\joydi\\anaconda3\\lib\\site-packages\\sklearn\\cluster\\_kmeans.py:870: FutureWarning: The default value of `n_init` will change from 10 to 'auto' in 1.4. Set the value of `n_init` explicitly to suppress the warning\n",
      "  warnings.warn(\n",
      "C:\\Users\\joydi\\anaconda3\\lib\\site-packages\\sklearn\\cluster\\_kmeans.py:1382: UserWarning: KMeans is known to have a memory leak on Windows with MKL, when there are less chunks than available threads. You can avoid it by setting the environment variable OMP_NUM_THREADS=1.\n",
      "  warnings.warn(\n",
      "C:\\Users\\joydi\\anaconda3\\lib\\site-packages\\sklearn\\cluster\\_kmeans.py:870: FutureWarning: The default value of `n_init` will change from 10 to 'auto' in 1.4. Set the value of `n_init` explicitly to suppress the warning\n",
      "  warnings.warn(\n",
      "C:\\Users\\joydi\\anaconda3\\lib\\site-packages\\sklearn\\cluster\\_kmeans.py:1382: UserWarning: KMeans is known to have a memory leak on Windows with MKL, when there are less chunks than available threads. You can avoid it by setting the environment variable OMP_NUM_THREADS=1.\n",
      "  warnings.warn(\n",
      "C:\\Users\\joydi\\anaconda3\\lib\\site-packages\\sklearn\\cluster\\_kmeans.py:870: FutureWarning: The default value of `n_init` will change from 10 to 'auto' in 1.4. Set the value of `n_init` explicitly to suppress the warning\n",
      "  warnings.warn(\n",
      "C:\\Users\\joydi\\anaconda3\\lib\\site-packages\\sklearn\\cluster\\_kmeans.py:1382: UserWarning: KMeans is known to have a memory leak on Windows with MKL, when there are less chunks than available threads. You can avoid it by setting the environment variable OMP_NUM_THREADS=1.\n",
      "  warnings.warn(\n",
      "C:\\Users\\joydi\\anaconda3\\lib\\site-packages\\sklearn\\cluster\\_kmeans.py:870: FutureWarning: The default value of `n_init` will change from 10 to 'auto' in 1.4. Set the value of `n_init` explicitly to suppress the warning\n",
      "  warnings.warn(\n",
      "C:\\Users\\joydi\\anaconda3\\lib\\site-packages\\sklearn\\cluster\\_kmeans.py:1382: UserWarning: KMeans is known to have a memory leak on Windows with MKL, when there are less chunks than available threads. You can avoid it by setting the environment variable OMP_NUM_THREADS=1.\n",
      "  warnings.warn(\n",
      "C:\\Users\\joydi\\anaconda3\\lib\\site-packages\\sklearn\\cluster\\_kmeans.py:870: FutureWarning: The default value of `n_init` will change from 10 to 'auto' in 1.4. Set the value of `n_init` explicitly to suppress the warning\n",
      "  warnings.warn(\n",
      "C:\\Users\\joydi\\anaconda3\\lib\\site-packages\\sklearn\\cluster\\_kmeans.py:1382: UserWarning: KMeans is known to have a memory leak on Windows with MKL, when there are less chunks than available threads. You can avoid it by setting the environment variable OMP_NUM_THREADS=1.\n",
      "  warnings.warn(\n",
      "C:\\Users\\joydi\\anaconda3\\lib\\site-packages\\sklearn\\cluster\\_kmeans.py:870: FutureWarning: The default value of `n_init` will change from 10 to 'auto' in 1.4. Set the value of `n_init` explicitly to suppress the warning\n",
      "  warnings.warn(\n",
      "C:\\Users\\joydi\\anaconda3\\lib\\site-packages\\sklearn\\cluster\\_kmeans.py:1382: UserWarning: KMeans is known to have a memory leak on Windows with MKL, when there are less chunks than available threads. You can avoid it by setting the environment variable OMP_NUM_THREADS=1.\n",
      "  warnings.warn(\n"
     ]
    },
    {
     "name": "stderr",
     "output_type": "stream",
     "text": [
      "C:\\Users\\joydi\\anaconda3\\lib\\site-packages\\sklearn\\cluster\\_kmeans.py:870: FutureWarning: The default value of `n_init` will change from 10 to 'auto' in 1.4. Set the value of `n_init` explicitly to suppress the warning\n",
      "  warnings.warn(\n",
      "C:\\Users\\joydi\\anaconda3\\lib\\site-packages\\sklearn\\cluster\\_kmeans.py:1382: UserWarning: KMeans is known to have a memory leak on Windows with MKL, when there are less chunks than available threads. You can avoid it by setting the environment variable OMP_NUM_THREADS=1.\n",
      "  warnings.warn(\n",
      "C:\\Users\\joydi\\anaconda3\\lib\\site-packages\\sklearn\\cluster\\_kmeans.py:870: FutureWarning: The default value of `n_init` will change from 10 to 'auto' in 1.4. Set the value of `n_init` explicitly to suppress the warning\n",
      "  warnings.warn(\n",
      "C:\\Users\\joydi\\anaconda3\\lib\\site-packages\\sklearn\\cluster\\_kmeans.py:1382: UserWarning: KMeans is known to have a memory leak on Windows with MKL, when there are less chunks than available threads. You can avoid it by setting the environment variable OMP_NUM_THREADS=1.\n",
      "  warnings.warn(\n"
     ]
    },
    {
     "data": {
      "image/png": "[encoded data removed]",
      "text/plain": [
       "<Figure size 640x480 with 1 Axes>"
      ]
     },
     "metadata": {},
     "output_type": "display_data"
    }
   ],
   "source": [
    "show_wcss(year,correlation_matrix)"
   ]
  },
  {
   "cell_type": "markdown",
   "id": "3bf4e188",
   "metadata": {},
   "source": [
    "## Select Number of clusters"
   ]
  },
  {
   "cell_type": "code",
   "execution_count": 15,
   "id": "9bf38454",
   "metadata": {},
   "outputs": [],
   "source": [
    "num_clusters=12"
   ]
  },
  {
   "cell_type": "markdown",
   "id": "1ea70dba",
   "metadata": {},
   "source": [
    "## Get the portfolios"
   ]
  },
  {
   "cell_type": "code",
   "execution_count": 16,
   "id": "67ae6796",
   "metadata": {
    "scrolled": true
   },
   "outputs": [
    {
     "name": "stderr",
     "output_type": "stream",
     "text": [
      "C:\\Users\\joydi\\anaconda3\\lib\\site-packages\\sklearn\\cluster\\_kmeans.py:870: FutureWarning: The default value of `n_init` will change from 10 to 'auto' in 1.4. Set the value of `n_init` explicitly to suppress the warning\n",
      "  warnings.warn(\n",
      "C:\\Users\\joydi\\anaconda3\\lib\\site-packages\\sklearn\\cluster\\_kmeans.py:1366: FutureWarning: algorithm='auto' is deprecated, it will be removed in 1.3. Using 'lloyd' instead.\n",
      "  warnings.warn(\n",
      "C:\\Users\\joydi\\anaconda3\\lib\\site-packages\\sklearn\\cluster\\_kmeans.py:1382: UserWarning: KMeans is known to have a memory leak on Windows with MKL, when there are less chunks than available threads. You can avoid it by setting the environment variable OMP_NUM_THREADS=1.\n",
      "  warnings.warn(\n"
     ]
    },
    {
     "name": "stdout",
     "output_type": "stream",
     "text": [
      "Cluster 1\n",
      "['CAT' 'SLB']\n",
      "Cluster 2\n",
      "['KO' 'PEP']\n",
      "Cluster 3\n",
      "['AAPL' 'AMZN' 'GOOGL' 'MSFT' 'NVDA' 'ORCL' 'TSLA' 'WMT']\n",
      "Cluster 4\n",
      "['MRNA' 'PFE']\n",
      "Cluster 5\n",
      "['BA' 'GS']\n",
      "Cluster 6\n",
      "['COST' 'INTC' 'JPM' 'NFLX' 'V' 'XRP-USD']\n",
      "Cluster 7\n",
      "['JNJ']\n",
      "Cluster 8\n",
      "['CVX' 'XOM']\n",
      "Cluster 9\n",
      "['PG']\n",
      "Cluster 10\n",
      "['BAC' 'MMM']\n",
      "Cluster 11\n",
      "['DIS' 'LMT' 'LTC-USD' 'T' 'UPS']\n",
      "Cluster 12\n",
      "['BTC-USD' 'ETH-USD']\n"
     ]
    },
    {
     "name": "stderr",
     "output_type": "stream",
     "text": [
      "C:\\Users\\joydi\\anaconda3\\lib\\site-packages\\sklearn\\cluster\\_kmeans.py:870: FutureWarning: The default value of `n_init` will change from 10 to 'auto' in 1.4. Set the value of `n_init` explicitly to suppress the warning\n",
      "  warnings.warn(\n",
      "C:\\Users\\joydi\\anaconda3\\lib\\site-packages\\sklearn\\cluster\\_kmeans.py:1366: FutureWarning: algorithm='auto' is deprecated, it will be removed in 1.3. Using 'lloyd' instead.\n",
      "  warnings.warn(\n",
      "C:\\Users\\joydi\\anaconda3\\lib\\site-packages\\sklearn\\cluster\\_kmeans.py:1382: UserWarning: KMeans is known to have a memory leak on Windows with MKL, when there are less chunks than available threads. You can avoid it by setting the environment variable OMP_NUM_THREADS=1.\n",
      "  warnings.warn(\n"
     ]
    },
    {
     "name": "stdout",
     "output_type": "stream",
     "text": [
      "Cluster 1\n",
      "['CVX' 'XOM']\n",
      "Cluster 2\n",
      "['COST' 'INTC' 'JPM' 'NFLX' 'V']\n",
      "Cluster 3\n",
      "['LMT' 'LTC-USD' 'UPS']\n",
      "Cluster 4\n",
      "['BA' 'GS']\n",
      "Cluster 5\n",
      "['CAT' 'SLB']\n",
      "Cluster 6\n",
      "['JNJ' 'KO' 'PEP']\n",
      "Cluster 7\n",
      "['AAPL' 'AMZN' 'GOOGL' 'MSFT' 'NVDA' 'ORCL' 'TSLA' 'WMT' 'XRP-USD']\n",
      "Cluster 8\n",
      "['PG']\n",
      "Cluster 9\n",
      "['BTC-USD' 'ETH-USD']\n",
      "Cluster 10\n",
      "['DIS' 'T']\n",
      "Cluster 11\n",
      "['MRNA' 'PFE']\n",
      "Cluster 12\n",
      "['BAC' 'MMM']\n"
     ]
    },
    {
     "name": "stderr",
     "output_type": "stream",
     "text": [
      "C:\\Users\\joydi\\anaconda3\\lib\\site-packages\\sklearn\\cluster\\_kmeans.py:870: FutureWarning: The default value of `n_init` will change from 10 to 'auto' in 1.4. Set the value of `n_init` explicitly to suppress the warning\n",
      "  warnings.warn(\n",
      "C:\\Users\\joydi\\anaconda3\\lib\\site-packages\\sklearn\\cluster\\_kmeans.py:1366: FutureWarning: algorithm='auto' is deprecated, it will be removed in 1.3. Using 'lloyd' instead.\n",
      "  warnings.warn(\n",
      "C:\\Users\\joydi\\anaconda3\\lib\\site-packages\\sklearn\\cluster\\_kmeans.py:1382: UserWarning: KMeans is known to have a memory leak on Windows with MKL, when there are less chunks than available threads. You can avoid it by setting the environment variable OMP_NUM_THREADS=1.\n",
      "  warnings.warn(\n"
     ]
    },
    {
     "name": "stdout",
     "output_type": "stream",
     "text": [
      "Cluster 1\n",
      "['PG']\n",
      "Cluster 2\n",
      "['DIS' 'LMT' 'LTC-USD' 'T' 'UPS']\n",
      "Cluster 3\n",
      "['JNJ']\n",
      "Cluster 4\n",
      "['BTC-USD' 'ETH-USD']\n",
      "Cluster 5\n",
      "['AAPL' 'AMZN' 'GOOGL' 'MSFT' 'NVDA' 'ORCL' 'TSLA' 'WMT']\n",
      "Cluster 6\n",
      "['BA' 'GS']\n",
      "Cluster 7\n",
      "['CAT' 'SLB']\n",
      "Cluster 8\n",
      "['CVX' 'XOM']\n",
      "Cluster 9\n",
      "['BAC' 'MMM']\n",
      "Cluster 10\n",
      "['COST' 'INTC' 'JPM' 'NFLX' 'V' 'XRP-USD']\n",
      "Cluster 11\n",
      "['KO' 'PEP']\n",
      "Cluster 12\n",
      "['MRNA' 'PFE']\n"
     ]
    }
   ],
   "source": [
    "portfolio_with_highest_mean=portfolio_highest_mean(kmeans_clustering(year,correlation_matrix,num_clusters))\n",
    "portfolio_with_lowest_risk=portfolio_lowest_risk(kmeans_clustering(year,correlation_matrix,num_clusters))\n",
    "portfolio_with_lowest_avg_clustering_coef=portfolio_lowest_avg_clustering(kmeans_clustering(year,correlation_matrix,num_clusters))"
   ]
  },
  {
   "cell_type": "code",
   "execution_count": 17,
   "id": "8344a97e",
   "metadata": {
    "scrolled": true
   },
   "outputs": [
    {
     "name": "stdout",
     "output_type": "stream",
     "text": [
      "['NVDA', 'BTC-USD', 'TSLA', 'XRP-USD', 'ETH-USD', 'INTC', 'AMZN']\n",
      "['BTC-USD', 'ETH-USD', 'INTC', 'NFLX', 'GOOGL', 'MSFT', 'AAPL']\n",
      "['NVDA', 'BTC-USD', 'TSLA', 'ETH-USD', 'INTC', 'AMZN', 'NFLX']\n"
     ]
    }
   ],
   "source": [
    "print(portfolio_with_highest_mean)\n",
    "print(portfolio_with_lowest_risk)\n",
    "print(portfolio_with_lowest_avg_clustering_coef)"
   ]
  },
  {
   "cell_type": "code",
   "execution_count": 18,
   "id": "83098df1",
   "metadata": {
    "scrolled": false
   },
   "outputs": [
    {
     "name": "stdout",
     "output_type": "stream",
     "text": [
      "[*********************100%%**********************]  7 of 7 completed\n",
      "1.7681067638911903\n",
      "[*********************100%%**********************]  7 of 7 completed\n",
      "1.2482834457605452\n",
      "[*********************100%%**********************]  7 of 7 completed\n",
      "1.6655629885830732\n"
     ]
    }
   ],
   "source": [
    "print((yf.download(portfolio_with_highest_mean, start=f'{year}-01-01', end=f'{year}-12-31')['Adj Close'].pct_change()*100).dropna().mean().sum())\n",
    "print((yf.download(portfolio_with_lowest_risk, start=f'{year}-01-01', end=f'{year}-12-31')['Adj Close'].pct_change()*100).dropna().mean().sum())\n",
    "print((yf.download(portfolio_with_lowest_avg_clustering_coef, start=f'{year}-01-01', end=f'{year}-12-31')['Adj Close'].pct_change()*100).dropna().mean().sum())"
   ]
  },
  {
   "cell_type": "markdown",
   "id": "6b215d46",
   "metadata": {},
   "source": [
    "## Check Diversification Ratio"
   ]
  },
  {
   "cell_type": "code",
   "execution_count": 19,
   "id": "70d4b7a3",
   "metadata": {},
   "outputs": [
    {
     "name": "stdout",
     "output_type": "stream",
     "text": [
      "[*********************100%%**********************]  7 of 7 completed\n",
      "[*********************100%%**********************]  7 of 7 completed\n",
      "[*********************100%%**********************]  7 of 7 completed\n"
     ]
    },
    {
     "data": {
      "text/plain": [
       "{'highest_return': 1.6591333451480061,\n",
       " 'lowest_risk': 1.5977700778092927,\n",
       " 'lowest_clustering': 1.6618091161556838}"
      ]
     },
     "execution_count": 19,
     "metadata": {},
     "output_type": "execute_result"
    }
   ],
   "source": [
    "diversification_dictionary(year,portfolio_with_highest_mean,portfolio_with_lowest_risk,portfolio_with_lowest_avg_clustering_coef)"
   ]
  },
  {
   "cell_type": "markdown",
   "id": "7adcf782",
   "metadata": {},
   "source": [
    "## Download Dataset "
   ]
  },
  {
   "cell_type": "markdown",
   "id": "4cae43f5",
   "metadata": {},
   "source": [
    "### Dataset constructed of stocks with highest mean"
   ]
  },
  {
   "cell_type": "code",
   "execution_count": 20,
   "id": "9547d751",
   "metadata": {},
   "outputs": [
    {
     "name": "stdout",
     "output_type": "stream",
     "text": [
      "[*********************100%%**********************]  7 of 7 completed\n"
     ]
    }
   ],
   "source": [
    "get_dataset(year,portfolio_with_highest_mean).to_csv(f'{correlation_method}_Kmeans_{year}_highest_mean.csv')"
   ]
  },
  {
   "cell_type": "markdown",
   "id": "9f49eb1b",
   "metadata": {},
   "source": [
    "### Dataset constructed of stocks with lowest risk"
   ]
  },
  {
   "cell_type": "code",
   "execution_count": 21,
   "id": "bfa55342",
   "metadata": {
    "scrolled": true
   },
   "outputs": [
    {
     "name": "stdout",
     "output_type": "stream",
     "text": [
      "[*********************100%%**********************]  7 of 7 completed\n"
     ]
    }
   ],
   "source": [
    "get_dataset(year,portfolio_with_lowest_risk).to_csv(f'{correlation_method}_Kmeans_{year}_lowest_risk.csv')"
   ]
  },
  {
   "cell_type": "markdown",
   "id": "4a3a78d8",
   "metadata": {},
   "source": [
    "### Dataset constructed of stocks with lowest average clustering coef"
   ]
  },
  {
   "cell_type": "code",
   "execution_count": 22,
   "id": "3e107705",
   "metadata": {},
   "outputs": [
    {
     "name": "stdout",
     "output_type": "stream",
     "text": [
      "[*********************100%%**********************]  7 of 7 completed\n"
     ]
    }
   ],
   "source": [
    "get_dataset(year,portfolio_with_lowest_avg_clustering_coef).to_csv(f'{correlation_method}_Kmeans_{year}_lowest_average_clustering.csv')"
   ]
  },
  {
   "cell_type": "code",
   "execution_count": null,
   "id": "72590628",
   "metadata": {},
   "outputs": [],
   "source": []
  }
 ],
 "metadata": {
  "kernelspec": {
   "display_name": "Python 3 (ipykernel)",
   "language": "python",
   "name": "python3"
  },
  "language_info": {
   "codemirror_mode": {
    "name": "ipython",
    "version": 3
   },
   "file_extension": ".py",
   "mimetype": "text/x-python",
   "name": "python",
   "nbconvert_exporter": "python",
   "pygments_lexer": "ipython3",
   "version": "3.10.9"
  }
 },
 "nbformat": 4,
 "nbformat_minor": 5
}
