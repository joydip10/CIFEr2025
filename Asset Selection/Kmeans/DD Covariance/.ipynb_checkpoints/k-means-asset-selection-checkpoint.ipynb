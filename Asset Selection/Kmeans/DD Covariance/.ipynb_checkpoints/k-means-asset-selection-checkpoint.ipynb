{
 "cells": [
  {
   "cell_type": "code",
   "execution_count": 16,
   "id": "46e968fa",
   "metadata": {},
   "outputs": [],
   "source": [
    "import numpy as np\n",
    "import pandas as pd\n",
    "from sklearn.cluster import KMeans\n",
    "import matplotlib.pyplot as plt"
   ]
  },
  {
   "cell_type": "code",
   "execution_count": 19,
   "id": "cb0031b3",
   "metadata": {},
   "outputs": [],
   "source": [
    "def dataset_parameters(year):\n",
    "    #dataset\n",
    "    stockFileName = f'./dd_cov_mat_{year}.csv'\n",
    "    originalRows=35\n",
    "    data = pd.read_csv(stockFileName,  nrows= originalRows,index_col=['assets'])\n",
    "    \n",
    "    #columns\n",
    "    assetLabels = data.columns.tolist()\n",
    "    \n",
    "    #covariance\n",
    "    dfStockPrices = data\n",
    "    assetParameters=np.array(dfStockPrices)\n",
    "    \n",
    "    return assetLabels,assetParameters"
   ]
  },
  {
   "cell_type": "code",
   "execution_count": 20,
   "id": "56d7b847",
   "metadata": {},
   "outputs": [],
   "source": [
    "def show_wcss(year):\n",
    "    \n",
    "    _,assetParameters=dataset_parameters(2020)\n",
    "    \n",
    "    #WCSS\n",
    "    wcss = []\n",
    "    for i in range(1, 35):\n",
    "        kmeans = KMeans(n_clusters = i, init = 'k-means++', random_state = 42)\n",
    "        kmeans.fit(assetParameters )\n",
    "        wcss.append(kmeans.inertia_)\n",
    "    plt.plot(range(1, 35), wcss, label=f'{year} WCSS plot')\n",
    "    plt.title('The Elbow Method')\n",
    "    plt.xlabel('Number of clusters')\n",
    "    plt.ylabel('WCSS')\n",
    "    plt.show()"
   ]
  },
  {
   "cell_type": "code",
   "execution_count": 21,
   "id": "de1e8ab1",
   "metadata": {},
   "outputs": [],
   "source": [
    "def kmeans_clustering(year,clusternumber):\n",
    "    \n",
    "    assetLabels,assetParameters=dataset_parameters(year)\n",
    "    \n",
    "    #Kmeans clustering\n",
    "    kmeans= KMeans(algorithm='auto',  max_iter=600, n_clusters=clusternumber)\n",
    "    print('Clustering of assets completed!') \n",
    "    kmeans.fit(assetParameters)\n",
    "    centroids = kmeans.cluster_centers_\n",
    "    labels = kmeans.labels_\n",
    "\n",
    "    print('Centroids:\\n', centroids)\n",
    "    print('Labels:\\n', labels)\n",
    "    print(len(centroids), len(labels))\n",
    "    print(\"\\n\\n\")\n",
    "    \n",
    "    print('Stocks in each of the clusters:\\n',)\n",
    "    assets = np.array(assetLabels)\n",
    "    cluster_list=[]\n",
    "    for i in range(clusternumber):\n",
    "        print('Cluster', i+1)\n",
    "        clt  = np.where(labels == i)\n",
    "        assetsCluster = assets[clt]\n",
    "        print(assetsCluster)\n",
    "        cluster_list.append(assetsCluster.tolist());\n",
    "    \n",
    "    return cluster_list"
   ]
  },
  {
   "cell_type": "code",
   "execution_count": null,
   "id": "578b6c18",
   "metadata": {},
   "outputs": [],
   "source": [
    "def portfolio_max_meanreturns(2020):\n",
    "    "
   ]
  },
  {
   "cell_type": "code",
   "execution_count": null,
   "id": "7a8c7758",
   "metadata": {},
   "outputs": [],
   "source": []
  },
  {
   "cell_type": "code",
   "execution_count": null,
   "id": "7b48d96c",
   "metadata": {},
   "outputs": [],
   "source": []
  }
 ],
 "metadata": {
  "kernelspec": {
   "display_name": "Python 3 (ipykernel)",
   "language": "python",
   "name": "python3"
  },
  "language_info": {
   "codemirror_mode": {
    "name": "ipython",
    "version": 3
   },
   "file_extension": ".py",
   "mimetype": "text/x-python",
   "name": "python",
   "nbconvert_exporter": "python",
   "pygments_lexer": "ipython3",
   "version": "3.10.9"
  }
 },
 "nbformat": 4,
 "nbformat_minor": 5
}
