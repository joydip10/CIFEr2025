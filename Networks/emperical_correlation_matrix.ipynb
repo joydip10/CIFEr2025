{
 "cells": [
  {
   "cell_type": "code",
   "execution_count": 1,
   "id": "91c302ac",
   "metadata": {},
   "outputs": [],
   "source": [
    "import numpy as np\n",
    "import pandas as pd"
   ]
  },
  {
   "cell_type": "code",
   "execution_count": 10,
   "id": "e38f5c38",
   "metadata": {},
   "outputs": [],
   "source": [
    "years=[i for i in range(2020,2024)]\n",
    "tickers = ['AAPL', 'MSFT', 'GOOGL', 'AMZN', 'TSLA', 'JPM', 'BAC', 'V', 'PG', 'KO', 'WMT', 'PEP', 'CVX', 'XOM', 'SLB', 'BA', 'UPS', 'CAT', 'MMM', 'JNJ', 'PFE', 'MRNA', 'DIS', 'NFLX', 'T', 'NVDA', 'ORCL', 'INTC', 'LMT', 'GS', 'COST', 'BTC-USD', 'ETH-USD', 'LTC-USD', 'XRP-USD']"
   ]
  },
  {
   "cell_type": "code",
   "execution_count": 3,
   "id": "c169a80c",
   "metadata": {},
   "outputs": [],
   "source": [
    "def save_to_file(years):\n",
    "    for i in years:\n",
    "        data=pd.read_csv(f'data_{i}.csv')\n",
    "        corr=data.corr()\n",
    "        corr['assets']=data.columns\n",
    "        corr.set_index('assets',inplace=True)\n",
    "        corr.to_csv(f'emperical_corr_mat_{i}.csv')"
   ]
  },
  {
   "cell_type": "code",
   "execution_count": 4,
   "id": "c182c523",
   "metadata": {},
   "outputs": [],
   "source": [
    "save_to_file(years)"
   ]
  },
  {
   "cell_type": "code",
   "execution_count": 13,
   "id": "cad87ac7",
   "metadata": {},
   "outputs": [],
   "source": [
    "import yfinance as yf\n",
    "def corr(years,tickers=tickers):\n",
    "    for i in years:\n",
    "        data=yf.download(tickers, start=f'{i}-01-01', end=f'{i}-12-31')['Adj Close']\n",
    "        corr=data.corr()\n",
    "        corr['assets']=data.columns\n",
    "        corr.set_index('assets',inplace=True)\n",
    "        corr.to_csv(f'emperical_corr_mat_{i}.csv')"
   ]
  },
  {
   "cell_type": "code",
   "execution_count": 14,
   "id": "da946235",
   "metadata": {},
   "outputs": [
    {
     "name": "stdout",
     "output_type": "stream",
     "text": [
      "[*********************100%%**********************]  35 of 35 completed\n",
      "[*********************100%%**********************]  35 of 35 completed\n",
      "[*********************100%%**********************]  35 of 35 completed\n",
      "[*********************100%%**********************]  35 of 35 completed\n"
     ]
    }
   ],
   "source": [
    "corr(years)"
   ]
  },
  {
   "cell_type": "code",
   "execution_count": null,
   "id": "1eed27cf",
   "metadata": {},
   "outputs": [],
   "source": []
  }
 ],
 "metadata": {
  "kernelspec": {
   "display_name": "Python 3 (ipykernel)",
   "language": "python",
   "name": "python3"
  },
  "language_info": {
   "codemirror_mode": {
    "name": "ipython",
    "version": 3
   },
   "file_extension": ".py",
   "mimetype": "text/x-python",
   "name": "python",
   "nbconvert_exporter": "python",
   "pygments_lexer": "ipython3",
   "version": "3.10.9"
  }
 },
 "nbformat": 4,
 "nbformat_minor": 5
}
