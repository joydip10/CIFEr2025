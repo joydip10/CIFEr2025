{
 "cells": [
  {
   "cell_type": "code",
   "execution_count": 197,
   "id": "e1f06319",
   "metadata": {},
   "outputs": [],
   "source": [
    "import numpy as np\n",
    "import pandas as pd"
   ]
  },
  {
   "cell_type": "code",
   "execution_count": 198,
   "id": "9e7ff6e3",
   "metadata": {},
   "outputs": [],
   "source": []
  },
  {
   "cell_type": "code",
   "execution_count": 199,
   "id": "60c4b97a",
   "metadata": {},
   "outputs": [],
   "source": [
    "data=pd.read_csv(dataset_name)"
   ]
  },
  {
   "cell_type": "code",
   "execution_count": 200,
   "id": "608a2ea0",
   "metadata": {},
   "outputs": [],
   "source": [
    "def choose_optimal_alpha(Z):\n",
    "    alpha_values = np.arange(0.01, 0.3, 0.01)\n",
    "    t = len(Z)\n",
    "    cut_t = 200\n",
    "    mse_alpha = np.zeros(len(alpha_values))\n",
    "    \n",
    "    for a, alpha in enumerate(alpha_values):\n",
    "        s = np.mean(Z[:cut_t])\n",
    "        error = np.zeros(t)\n",
    "        \n",
    "        for i in range(t):\n",
    "            error[i] = Z[i] - s\n",
    "            s = alpha * Z[i] + (1 - alpha) * s\n",
    "        \n",
    "        mse_alpha[a] = np.mean(error[cut_t:]**2)\n",
    "    \n",
    "    alpha_opt = alpha_values[np.argmin(mse_alpha)]\n",
    "    return alpha_opt\n"
   ]
  },
  {
   "cell_type": "code",
   "execution_count": 201,
   "id": "40cf24cb",
   "metadata": {},
   "outputs": [],
   "source": [
    "def dd_vol(y):\n",
    "    t = len(y)\n",
    "    y_mean = np.mean(y)\n",
    "    rho = np.corrcoef(y - y_mean, np.sign(y - y_mean))[0, 1]\n",
    "    \n",
    "    vol = np.abs(y - y_mean) / rho\n",
    "    \n",
    "    # Define dd_alpha function (assuming you have it defined elsewhere)\n",
    "    alpha = choose_optimal_alpha(vol)  # You need to define this function in your environment\n",
    "    \n",
    "    cut_t = 122\n",
    "    s = np.mean(vol[:cut_t])\n",
    "    s_t=[]\n",
    "    for i in range(t):\n",
    "        s = alpha * vol[i] + (1 - alpha) * s\n",
    "        s_t.append(s)\n",
    "    \n",
    "    return s,s_t\n"
   ]
  },
  {
   "cell_type": "code",
   "execution_count": 202,
   "id": "0afee62b",
   "metadata": {},
   "outputs": [],
   "source": [
    "def dd_res(y):\n",
    "    y = np.array(y)\n",
    "    y_mean = np.mean(y)\n",
    "    rho = np.corrcoef(y - y_mean, np.sign(y - y_mean))[0, 1]\n",
    "    \n",
    "    vol = np.abs(y - y_mean) / rho\n",
    "    alpha = choose_optimal_alpha(vol)\n",
    "    \n",
    "    cut_t = 122\n",
    "    s = np.mean(vol[:cut_t])\n",
    "    t = len(y)\n",
    "    res = np.zeros(t)\n",
    "    \n",
    "    for i in range(t):\n",
    "        res[i] = (y[i] - y_mean) / s\n",
    "        s = alpha * vol[i] + (1 - alpha) * s\n",
    "    \n",
    "    return res"
   ]
  },
  {
   "cell_type": "code",
   "execution_count": 203,
   "id": "7b2d8f79",
   "metadata": {},
   "outputs": [],
   "source": [
    "def dd_merged_vol(data):\n",
    "    dd=[]\n",
    "    dd_s=[]\n",
    "    for i in data.columns:\n",
    "        df=np.array(data.loc[:,i])\n",
    "        s,s_t=dd_vol(df)\n",
    "        s_t=np.array(s_t)\n",
    "        new_df=pd.DataFrame({f'{i}':s_t})\n",
    "        dd.append(new_df)\n",
    "        dd_s.append(s)\n",
    "    merged_df=pd.concat(dd,axis=1)\n",
    "    return merged_df,np.array(dd_s)"
   ]
  },
  {
   "cell_type": "code",
   "execution_count": 206,
   "id": "bc8af2ee",
   "metadata": {},
   "outputs": [],
   "source": [
    "def df_merged_res_corr(data):\n",
    "    dd=[]\n",
    "    for i in data.columns:\n",
    "        df=np.array(data.loc[:,i])\n",
    "        s_t=np.array(dd_res(df))\n",
    "        new_df=pd.DataFrame({f'{i}':s_t})\n",
    "        dd.append(new_df)\n",
    "    merged_df=pd.concat(dd,axis=1)\n",
    "    return merged_df,np.array(merged_df.corr())"
   ]
  },
  {
   "cell_type": "code",
   "execution_count": 236,
   "id": "feae0902",
   "metadata": {},
   "outputs": [],
   "source": [
    "def dd_cov(data):\n",
    "    _,st=dd_merged_vol(data)\n",
    "    _,res_corr_mat=df_merged_res_corr(data)\n",
    "    cov_mat = np.zeros((35,35))\n",
    "    for i in range(35):\n",
    "        for j in range(35):\n",
    "            if i==j:\n",
    "                cov_mat[i,j]=st[i]**2\n",
    "            else:\n",
    "                cov_mat[i,j]=res_corr_mat[i,j]*st[i]*st[j]\n",
    "    \n",
    "    df_cov_mat=pd.DataFrame(cov_mat)\n",
    "    df_cov_mat.columns=data.columns\n",
    "    df_cov_mat=df_cov_mat.set_index(data.columns)\n",
    "    return df_cov_mat"
   ]
  },
  {
   "cell_type": "code",
   "execution_count": null,
   "id": "d1d4cb72",
   "metadata": {},
   "outputs": [],
   "source": []
  },
  {
   "cell_type": "code",
   "execution_count": 3,
   "id": "4fd0c859",
   "metadata": {},
   "outputs": [],
   "source": [
    "years=[i for i in range(2020,2024)]"
   ]
  },
  {
   "cell_type": "code",
   "execution_count": 2,
   "id": "b4b025ad",
   "metadata": {},
   "outputs": [
    {
     "data": {
      "text/plain": [
       "[2020, 2021, 2022, 2023]"
      ]
     },
     "execution_count": 2,
     "metadata": {},
     "output_type": "execute_result"
    }
   ],
   "source": [
    "def save_to_file(years):\n",
    "    for i in year:\n",
    "        data=pd.read_csv(f'dataset_{i}')\n",
    "        dd_cov(data).to_csv(f'dd_cov_mat_{i}')"
   ]
  },
  {
   "cell_type": "code",
   "execution_count": null,
   "id": "fc5f140a",
   "metadata": {},
   "outputs": [],
   "source": []
  }
 ],
 "metadata": {
  "kernelspec": {
   "display_name": "Python 3 (ipykernel)",
   "language": "python",
   "name": "python3"
  },
  "language_info": {
   "codemirror_mode": {
    "name": "ipython",
    "version": 3
   },
   "file_extension": ".py",
   "mimetype": "text/x-python",
   "name": "python",
   "nbconvert_exporter": "python",
   "pygments_lexer": "ipython3",
   "version": "3.10.9"
  }
 },
 "nbformat": 4,
 "nbformat_minor": 5
}
